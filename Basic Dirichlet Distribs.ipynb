{
 "cells": [
  {
   "cell_type": "code",
   "execution_count": 1,
   "metadata": {
    "collapsed": true
   },
   "outputs": [],
   "source": [
    "%matplotlib inline"
   ]
  },
  {
   "cell_type": "markdown",
   "metadata": {},
   "source": [
    "This notebook explores Dirichlet Distribution(DD), which is a shape distribution, or a distribution of distributions. Sampling a dirichlet yields a multinomial distribution .\n",
    "\n",
    "\n",
    "* Suppose the multinomial(categorical) distribution contains K categories. The dirichlet distribution is then parameterized by $\\boldsymbol G_0$ , which is basically a mean distribution of $\\boldsymbol K$ categorical variables and a scale factor, $\\boldsymbol\\alpha_0$\n",
    "\n",
    "* The variance of DD is a function of scale factor $\\boldsymbol \\alpha_0$\n",
    "\n",
    "* The expected value of the DD is $G_0$. When $\\alpha_0$ is large, samples from $DD(\\alpha , G_0)$ will be close to $G_0$.\n",
    "\n",
    "\n",
    "Let's try with different values of $G_0$ and $\\alpha_0$\n",
    "\n",
    "\n"
   ]
  },
  {
   "cell_type": "code",
   "execution_count": 44,
   "metadata": {},
   "outputs": [
    {
     "name": "stdout",
     "output_type": "stream",
     "text": [
      "(10000, 3)\n"
     ]
    },
    {
     "data": {
      "image/png": "[encoded data removed]",
      "text/plain": [
       "<matplotlib.figure.Figure at 0x113b94710>"
      ]
     },
     "metadata": {},
     "output_type": "display_data"
    }
   ],
   "source": [
    "import numpy as np\n",
    "import matplotlib.pyplot as plt\n",
    "from scipy.stats import dirichlet\n",
    "\n",
    "np.set_printoptions(precision=2)\n",
    "\n",
    "\n",
    "def stats(scale_factor,G0=[.2,.2,.6],N=10000):\n",
    "    samples = dirichlet(alpha=scale_factor*np.array(G0)).rvs(N)\n",
    "    x = np.array(range(N))\n",
    "    print samples.shape\n",
    "    plt.figure(figsize=(30,3))\n",
    "    plt.subplot(1,3,1)\n",
    "    plt.title('Scale_factor:'+str(scale_factor))\n",
    "    plt.legend('legend')\n",
    "    plt.plot(x,samples[:,0],color='r')\n",
    "    plt.subplot(1,3,2)\n",
    "    plt.plot(x,samples[:,1],color='g')\n",
    "    plt.subplot(1,3,3)\n",
    "    plt.plot(x,samples[:,2],color='b')\n",
    "#     print \"                          alpha:\", scale_factor\n",
    "#     print \"              element-wise mean:\", samples.mean(axis=0)\n",
    "#     print \"element-wise standard deviation:\", samples.std(axis=0)\n",
    "#     print\n",
    "    \n",
    "for scale in [0.1]:#, 1, 10, 100, 1000]:\n",
    "    stats(scale)\n"
   ]
  },
  {
   "cell_type": "code",
   "execution_count": 19,
   "metadata": {
    "collapsed": true
   },
   "outputs": [],
   "source": []
  },
  {
   "cell_type": "code",
   "execution_count": null,
   "metadata": {
    "collapsed": true
   },
   "outputs": [],
   "source": []
  }
 ],
 "metadata": {
  "kernelspec": {
   "display_name": "Python 2",
   "language": "python",
   "name": "python2"
  },
  "language_info": {
   "codemirror_mode": {
    "name": "ipython",
    "version": 2
   },
   "file_extension": ".py",
   "mimetype": "text/x-python",
   "name": "python",
   "nbconvert_exporter": "python",
   "pygments_lexer": "ipython2",
   "version": "2.7.10"
  }
 },
 "nbformat": 4,
 "nbformat_minor": 2
}
